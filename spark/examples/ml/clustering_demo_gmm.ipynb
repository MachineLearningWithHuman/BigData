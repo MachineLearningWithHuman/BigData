{
  "nbformat": 4,
  "nbformat_minor": 0,
  "metadata": {
    "colab": {
      "name": "clustering_demo_gmm.ipynb",
      "version": "0.3.2",
      "provenance": [],
      "collapsed_sections": [],
      "toc_visible": true
    },
    "kernelspec": {
      "name": "python3",
      "display_name": "Python 3"
    }
  },
  "cells": [
    {
      "cell_type": "markdown",
      "metadata": {
        "id": "1GbwO8rvo8EI",
        "colab_type": "text"
      },
      "source": [
        "# A simple example demonstrating Gaussian Mixture Model (GMM)"
      ]
    },
    {
      "cell_type": "code",
      "metadata": {
        "id": "6Qzr6BL-pWv6",
        "colab_type": "code",
        "colab": {
          "base_uri": "https://localhost:8080/",
          "height": 230
        },
        "outputId": "edea24e9-da6f-43a3-b9b5-c6bf200c8640"
      },
      "source": [
        "!pip install pyspark"
      ],
      "execution_count": 2,
      "outputs": [
        {
          "output_type": "stream",
          "text": [
            "Collecting pyspark\n",
            "\u001b[?25l  Downloading https://files.pythonhosted.org/packages/37/98/244399c0daa7894cdf387e7007d5e8b3710a79b67f3fd991c0b0b644822d/pyspark-2.4.3.tar.gz (215.6MB)\n",
            "\u001b[K     |████████████████████████████████| 215.6MB 104kB/s \n",
            "\u001b[?25hCollecting py4j==0.10.7 (from pyspark)\n",
            "\u001b[?25l  Downloading https://files.pythonhosted.org/packages/e3/53/c737818eb9a7dc32a7cd4f1396e787bd94200c3997c72c1dbe028587bd76/py4j-0.10.7-py2.py3-none-any.whl (197kB)\n",
            "\u001b[K     |████████████████████████████████| 204kB 39.8MB/s \n",
            "\u001b[?25hBuilding wheels for collected packages: pyspark\n",
            "  Building wheel for pyspark (setup.py) ... \u001b[?25l\u001b[?25hdone\n",
            "  Stored in directory: /root/.cache/pip/wheels/8d/20/f0/b30e2024226dc112e256930dd2cd4f06d00ab053c86278dcf3\n",
            "Successfully built pyspark\n",
            "Installing collected packages: py4j, pyspark\n",
            "Successfully installed py4j-0.10.7 pyspark-2.4.3\n"
          ],
          "name": "stdout"
        }
      ]
    },
    {
      "cell_type": "code",
      "metadata": {
        "id": "gxZ16s6SoYfZ",
        "colab_type": "code",
        "colab": {}
      },
      "source": [
        "# $example on$\n",
        "from pyspark.ml.clustering import GaussianMixture"
      ],
      "execution_count": 0,
      "outputs": []
    },
    {
      "cell_type": "code",
      "metadata": {
        "id": "P3W6u8kGpED_",
        "colab_type": "code",
        "colab": {}
      },
      "source": [
        "# $example off$\n",
        "from pyspark.sql import SparkSession"
      ],
      "execution_count": 0,
      "outputs": []
    },
    {
      "cell_type": "code",
      "metadata": {
        "id": "AjQTZ66Cp7ip",
        "colab_type": "code",
        "colab": {}
      },
      "source": [
        "spark = SparkSession\\\n",
        "        .builder\\\n",
        "        .appName(\"GaussianMixtureExample\")\\\n",
        "        .getOrCreate()"
      ],
      "execution_count": 0,
      "outputs": []
    },
    {
      "cell_type": "code",
      "metadata": {
        "id": "QgTLOJRipuXr",
        "colab_type": "code",
        "colab": {}
      },
      "source": [
        "  # $example on$\n",
        "    # loads data\n",
        "    dataset = spark.read.format(\"libsvm\").load(\"sample_k_means_data.txt\")"
      ],
      "execution_count": 0,
      "outputs": []
    },
    {
      "cell_type": "code",
      "metadata": {
        "id": "Sr4DnbUqp0bA",
        "colab_type": "code",
        "colab": {}
      },
      "source": [
        "gmm = GaussianMixture().setK(2)\n",
        "model = gmm.fit(dataset)"
      ],
      "execution_count": 0,
      "outputs": []
    },
    {
      "cell_type": "code",
      "metadata": {
        "id": "HCd0PMlvq2g5",
        "colab_type": "code",
        "colab": {}
      },
      "source": [
        "print(\"Gaussians shown as a DataFrame: \")\n",
        "model.gaussiansDF.show(truncate=False)"
      ],
      "execution_count": 0,
      "outputs": []
    }
  ]
}